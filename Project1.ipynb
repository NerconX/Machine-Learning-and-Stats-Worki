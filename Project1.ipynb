{
 "cells": [
  {
   "cell_type": "markdown",
   "id": "c553e96c",
   "metadata": {},
   "source": [
    "import data/csv file, data prep/anaylsis"
   ]
  },
  {
   "cell_type": "code",
   "execution_count": 1,
   "id": "c7668369",
   "metadata": {},
   "outputs": [
    {
     "data": {
      "text/html": [
       "<div>\n",
       "<style scoped>\n",
       "    .dataframe tbody tr th:only-of-type {\n",
       "        vertical-align: middle;\n",
       "    }\n",
       "\n",
       "    .dataframe tbody tr th {\n",
       "        vertical-align: top;\n",
       "    }\n",
       "\n",
       "    .dataframe thead th {\n",
       "        text-align: right;\n",
       "    }\n",
       "</style>\n",
       "<table border=\"1\" class=\"dataframe\">\n",
       "  <thead>\n",
       "    <tr style=\"text-align: right;\">\n",
       "      <th></th>\n",
       "      <th>Vsl</th>\n",
       "      <th>Vsg</th>\n",
       "      <th>VisL</th>\n",
       "      <th>VisG</th>\n",
       "      <th>DenL</th>\n",
       "      <th>DenG</th>\n",
       "      <th>ST</th>\n",
       "      <th>Ang</th>\n",
       "      <th>ID</th>\n",
       "      <th>FlowPattern</th>\n",
       "    </tr>\n",
       "  </thead>\n",
       "  <tbody>\n",
       "    <tr>\n",
       "      <th>0</th>\n",
       "      <td>0.04482</td>\n",
       "      <td>0.81402</td>\n",
       "      <td>0.001</td>\n",
       "      <td>0.00007</td>\n",
       "      <td>1000.0</td>\n",
       "      <td>1.12</td>\n",
       "      <td>0.07</td>\n",
       "      <td>0.0</td>\n",
       "      <td>0.0254</td>\n",
       "      <td>3</td>\n",
       "    </tr>\n",
       "    <tr>\n",
       "      <th>1</th>\n",
       "      <td>0.06098</td>\n",
       "      <td>0.81402</td>\n",
       "      <td>0.001</td>\n",
       "      <td>0.00007</td>\n",
       "      <td>1000.0</td>\n",
       "      <td>1.12</td>\n",
       "      <td>0.07</td>\n",
       "      <td>0.0</td>\n",
       "      <td>0.0254</td>\n",
       "      <td>5</td>\n",
       "    </tr>\n",
       "    <tr>\n",
       "      <th>2</th>\n",
       "      <td>0.08811</td>\n",
       "      <td>0.81402</td>\n",
       "      <td>0.001</td>\n",
       "      <td>0.00007</td>\n",
       "      <td>1000.0</td>\n",
       "      <td>1.12</td>\n",
       "      <td>0.07</td>\n",
       "      <td>0.0</td>\n",
       "      <td>0.0254</td>\n",
       "      <td>5</td>\n",
       "    </tr>\n",
       "    <tr>\n",
       "      <th>3</th>\n",
       "      <td>0.06098</td>\n",
       "      <td>1.10366</td>\n",
       "      <td>0.001</td>\n",
       "      <td>0.00007</td>\n",
       "      <td>1000.0</td>\n",
       "      <td>1.12</td>\n",
       "      <td>0.07</td>\n",
       "      <td>0.0</td>\n",
       "      <td>0.0254</td>\n",
       "      <td>5</td>\n",
       "    </tr>\n",
       "    <tr>\n",
       "      <th>4</th>\n",
       "      <td>0.12195</td>\n",
       "      <td>1.10366</td>\n",
       "      <td>0.001</td>\n",
       "      <td>0.00007</td>\n",
       "      <td>1000.0</td>\n",
       "      <td>1.12</td>\n",
       "      <td>0.07</td>\n",
       "      <td>0.0</td>\n",
       "      <td>0.0254</td>\n",
       "      <td>5</td>\n",
       "    </tr>\n",
       "  </tbody>\n",
       "</table>\n",
       "</div>"
      ],
      "text/plain": [
       "       Vsl      Vsg   VisL     VisG    DenL  DenG    ST  Ang      ID  \\\n",
       "0  0.04482  0.81402  0.001  0.00007  1000.0  1.12  0.07  0.0  0.0254   \n",
       "1  0.06098  0.81402  0.001  0.00007  1000.0  1.12  0.07  0.0  0.0254   \n",
       "2  0.08811  0.81402  0.001  0.00007  1000.0  1.12  0.07  0.0  0.0254   \n",
       "3  0.06098  1.10366  0.001  0.00007  1000.0  1.12  0.07  0.0  0.0254   \n",
       "4  0.12195  1.10366  0.001  0.00007  1000.0  1.12  0.07  0.0  0.0254   \n",
       "\n",
       "   FlowPattern  \n",
       "0            3  \n",
       "1            5  \n",
       "2            5  \n",
       "3            5  \n",
       "4            5  "
      ]
     },
     "execution_count": 1,
     "metadata": {},
     "output_type": "execute_result"
    }
   ],
   "source": [
    "import numpy as np\n",
    "import pandas as pd\n",
    "import matplotlib.pylab as plt\n",
    "import seaborn as sn\n",
    "\n",
    "#import csv file\n",
    "df = pd.read_csv(\"BD12Experiments6FP.csv\")\n",
    "\n",
    "#look at datahead first 5 data\n",
    "df.head()"
   ]
  },
  {
   "cell_type": "code",
   "execution_count": 2,
   "id": "579ac405",
   "metadata": {
    "scrolled": true
   },
   "outputs": [
    {
     "data": {
      "text/html": [
       "<div>\n",
       "<style scoped>\n",
       "    .dataframe tbody tr th:only-of-type {\n",
       "        vertical-align: middle;\n",
       "    }\n",
       "\n",
       "    .dataframe tbody tr th {\n",
       "        vertical-align: top;\n",
       "    }\n",
       "\n",
       "    .dataframe thead tr th {\n",
       "        text-align: left;\n",
       "    }\n",
       "\n",
       "    .dataframe thead tr:last-of-type th {\n",
       "        text-align: right;\n",
       "    }\n",
       "</style>\n",
       "<table border=\"1\" class=\"dataframe\">\n",
       "  <thead>\n",
       "    <tr>\n",
       "      <th></th>\n",
       "      <th colspan=\"8\" halign=\"left\">Vsl</th>\n",
       "      <th colspan=\"2\" halign=\"left\">Vsg</th>\n",
       "      <th>...</th>\n",
       "      <th colspan=\"2\" halign=\"left\">Ang</th>\n",
       "      <th colspan=\"8\" halign=\"left\">ID</th>\n",
       "    </tr>\n",
       "    <tr>\n",
       "      <th></th>\n",
       "      <th>count</th>\n",
       "      <th>mean</th>\n",
       "      <th>std</th>\n",
       "      <th>min</th>\n",
       "      <th>25%</th>\n",
       "      <th>50%</th>\n",
       "      <th>75%</th>\n",
       "      <th>max</th>\n",
       "      <th>count</th>\n",
       "      <th>mean</th>\n",
       "      <th>...</th>\n",
       "      <th>75%</th>\n",
       "      <th>max</th>\n",
       "      <th>count</th>\n",
       "      <th>mean</th>\n",
       "      <th>std</th>\n",
       "      <th>min</th>\n",
       "      <th>25%</th>\n",
       "      <th>50%</th>\n",
       "      <th>75%</th>\n",
       "      <th>max</th>\n",
       "    </tr>\n",
       "    <tr>\n",
       "      <th>FlowPattern</th>\n",
       "      <th></th>\n",
       "      <th></th>\n",
       "      <th></th>\n",
       "      <th></th>\n",
       "      <th></th>\n",
       "      <th></th>\n",
       "      <th></th>\n",
       "      <th></th>\n",
       "      <th></th>\n",
       "      <th></th>\n",
       "      <th></th>\n",
       "      <th></th>\n",
       "      <th></th>\n",
       "      <th></th>\n",
       "      <th></th>\n",
       "      <th></th>\n",
       "      <th></th>\n",
       "      <th></th>\n",
       "      <th></th>\n",
       "      <th></th>\n",
       "      <th></th>\n",
       "    </tr>\n",
       "  </thead>\n",
       "  <tbody>\n",
       "    <tr>\n",
       "      <th>1</th>\n",
       "      <td>816.0</td>\n",
       "      <td>3.313700</td>\n",
       "      <td>1.325997</td>\n",
       "      <td>0.00110</td>\n",
       "      <td>2.500000</td>\n",
       "      <td>3.04026</td>\n",
       "      <td>4.000000</td>\n",
       "      <td>6.86933</td>\n",
       "      <td>816.0</td>\n",
       "      <td>0.989005</td>\n",
       "      <td>...</td>\n",
       "      <td>9.00</td>\n",
       "      <td>90.0</td>\n",
       "      <td>816.0</td>\n",
       "      <td>0.044279</td>\n",
       "      <td>0.022631</td>\n",
       "      <td>0.02500</td>\n",
       "      <td>0.0250</td>\n",
       "      <td>0.0510</td>\n",
       "      <td>0.0510</td>\n",
       "      <td>0.1064</td>\n",
       "    </tr>\n",
       "    <tr>\n",
       "      <th>2</th>\n",
       "      <td>582.0</td>\n",
       "      <td>0.112880</td>\n",
       "      <td>0.189178</td>\n",
       "      <td>0.00024</td>\n",
       "      <td>0.029478</td>\n",
       "      <td>0.04903</td>\n",
       "      <td>0.098657</td>\n",
       "      <td>1.02993</td>\n",
       "      <td>582.0</td>\n",
       "      <td>0.905525</td>\n",
       "      <td>...</td>\n",
       "      <td>-0.25</td>\n",
       "      <td>1.5</td>\n",
       "      <td>582.0</td>\n",
       "      <td>0.051436</td>\n",
       "      <td>0.020978</td>\n",
       "      <td>0.00874</td>\n",
       "      <td>0.0258</td>\n",
       "      <td>0.0512</td>\n",
       "      <td>0.0763</td>\n",
       "      <td>0.0763</td>\n",
       "    </tr>\n",
       "    <tr>\n",
       "      <th>3</th>\n",
       "      <td>1093.0</td>\n",
       "      <td>0.277057</td>\n",
       "      <td>0.939504</td>\n",
       "      <td>0.00130</td>\n",
       "      <td>0.010000</td>\n",
       "      <td>0.04000</td>\n",
       "      <td>0.245620</td>\n",
       "      <td>16.54820</td>\n",
       "      <td>1093.0</td>\n",
       "      <td>6.065426</td>\n",
       "      <td>...</td>\n",
       "      <td>0.00</td>\n",
       "      <td>20.0</td>\n",
       "      <td>1093.0</td>\n",
       "      <td>0.045025</td>\n",
       "      <td>0.020369</td>\n",
       "      <td>0.02500</td>\n",
       "      <td>0.0250</td>\n",
       "      <td>0.0510</td>\n",
       "      <td>0.0510</td>\n",
       "      <td>0.1064</td>\n",
       "    </tr>\n",
       "    <tr>\n",
       "      <th>4</th>\n",
       "      <td>1664.0</td>\n",
       "      <td>0.209664</td>\n",
       "      <td>0.276786</td>\n",
       "      <td>0.00130</td>\n",
       "      <td>0.028820</td>\n",
       "      <td>0.10000</td>\n",
       "      <td>0.254727</td>\n",
       "      <td>1.69055</td>\n",
       "      <td>1664.0</td>\n",
       "      <td>16.882966</td>\n",
       "      <td>...</td>\n",
       "      <td>5.00</td>\n",
       "      <td>90.0</td>\n",
       "      <td>1664.0</td>\n",
       "      <td>0.041732</td>\n",
       "      <td>0.024959</td>\n",
       "      <td>0.00874</td>\n",
       "      <td>0.0250</td>\n",
       "      <td>0.0501</td>\n",
       "      <td>0.0510</td>\n",
       "      <td>0.1890</td>\n",
       "    </tr>\n",
       "    <tr>\n",
       "      <th>5</th>\n",
       "      <td>4721.0</td>\n",
       "      <td>0.761614</td>\n",
       "      <td>1.117543</td>\n",
       "      <td>0.00216</td>\n",
       "      <td>0.049030</td>\n",
       "      <td>0.40000</td>\n",
       "      <td>1.030770</td>\n",
       "      <td>25.51700</td>\n",
       "      <td>4721.0</td>\n",
       "      <td>3.625846</td>\n",
       "      <td>...</td>\n",
       "      <td>15.00</td>\n",
       "      <td>90.0</td>\n",
       "      <td>4721.0</td>\n",
       "      <td>0.048617</td>\n",
       "      <td>0.026766</td>\n",
       "      <td>0.00874</td>\n",
       "      <td>0.0250</td>\n",
       "      <td>0.0510</td>\n",
       "      <td>0.0512</td>\n",
       "      <td>0.1890</td>\n",
       "    </tr>\n",
       "    <tr>\n",
       "      <th>7</th>\n",
       "      <td>153.0</td>\n",
       "      <td>0.571194</td>\n",
       "      <td>0.763561</td>\n",
       "      <td>0.00217</td>\n",
       "      <td>0.039060</td>\n",
       "      <td>0.25255</td>\n",
       "      <td>0.953480</td>\n",
       "      <td>4.33809</td>\n",
       "      <td>153.0</td>\n",
       "      <td>0.319079</td>\n",
       "      <td>...</td>\n",
       "      <td>90.00</td>\n",
       "      <td>90.0</td>\n",
       "      <td>153.0</td>\n",
       "      <td>0.075378</td>\n",
       "      <td>0.052770</td>\n",
       "      <td>0.05100</td>\n",
       "      <td>0.0510</td>\n",
       "      <td>0.0510</td>\n",
       "      <td>0.0510</td>\n",
       "      <td>0.1890</td>\n",
       "    </tr>\n",
       "  </tbody>\n",
       "</table>\n",
       "<p>6 rows × 72 columns</p>\n",
       "</div>"
      ],
      "text/plain": [
       "                Vsl                                                            \\\n",
       "              count      mean       std      min       25%      50%       75%   \n",
       "FlowPattern                                                                     \n",
       "1             816.0  3.313700  1.325997  0.00110  2.500000  3.04026  4.000000   \n",
       "2             582.0  0.112880  0.189178  0.00024  0.029478  0.04903  0.098657   \n",
       "3            1093.0  0.277057  0.939504  0.00130  0.010000  0.04000  0.245620   \n",
       "4            1664.0  0.209664  0.276786  0.00130  0.028820  0.10000  0.254727   \n",
       "5            4721.0  0.761614  1.117543  0.00216  0.049030  0.40000  1.030770   \n",
       "7             153.0  0.571194  0.763561  0.00217  0.039060  0.25255  0.953480   \n",
       "\n",
       "                          Vsg             ...    Ang            ID            \\\n",
       "                  max   count       mean  ...    75%   max   count      mean   \n",
       "FlowPattern                               ...                                  \n",
       "1             6.86933   816.0   0.989005  ...   9.00  90.0   816.0  0.044279   \n",
       "2             1.02993   582.0   0.905525  ...  -0.25   1.5   582.0  0.051436   \n",
       "3            16.54820  1093.0   6.065426  ...   0.00  20.0  1093.0  0.045025   \n",
       "4             1.69055  1664.0  16.882966  ...   5.00  90.0  1664.0  0.041732   \n",
       "5            25.51700  4721.0   3.625846  ...  15.00  90.0  4721.0  0.048617   \n",
       "7             4.33809   153.0   0.319079  ...  90.00  90.0   153.0  0.075378   \n",
       "\n",
       "                                                                \n",
       "                  std      min     25%     50%     75%     max  \n",
       "FlowPattern                                                     \n",
       "1            0.022631  0.02500  0.0250  0.0510  0.0510  0.1064  \n",
       "2            0.020978  0.00874  0.0258  0.0512  0.0763  0.0763  \n",
       "3            0.020369  0.02500  0.0250  0.0510  0.0510  0.1064  \n",
       "4            0.024959  0.00874  0.0250  0.0501  0.0510  0.1890  \n",
       "5            0.026766  0.00874  0.0250  0.0510  0.0512  0.1890  \n",
       "7            0.052770  0.05100  0.0510  0.0510  0.0510  0.1890  \n",
       "\n",
       "[6 rows x 72 columns]"
      ]
     },
     "execution_count": 2,
     "metadata": {},
     "output_type": "execute_result"
    }
   ],
   "source": [
    "df.groupby('FlowPattern').describe()"
   ]
  },
  {
   "cell_type": "code",
   "execution_count": 3,
   "id": "39d50ccc",
   "metadata": {},
   "outputs": [
    {
     "name": "stdout",
     "output_type": "stream",
     "text": [
      "   FlowPattern  Number of Units\n",
      "0            5             4721\n",
      "1            4             1664\n",
      "2            3             1093\n",
      "3            1              816\n",
      "4            2              582\n",
      "5            7              153\n"
     ]
    }
   ],
   "source": [
    "flow_pattern_counts = df['FlowPattern'].value_counts().reset_index()\n",
    "flow_pattern_counts.columns = ['FlowPattern', 'Number of Units']\n",
    "print(flow_pattern_counts)"
   ]
  },
  {
   "cell_type": "code",
   "execution_count": 4,
   "id": "d493dfaf",
   "metadata": {},
   "outputs": [],
   "source": [
    "#serperate indep variables and depend variables\n",
    "X = df.drop(['FlowPattern'], axis=1)\n",
    "Y = df['FlowPattern']"
   ]
  },
  {
   "cell_type": "code",
   "execution_count": 5,
   "id": "b3a3feff",
   "metadata": {},
   "outputs": [
    {
     "name": "stdout",
     "output_type": "stream",
     "text": [
      "(9029, 9)\n",
      "(9029,)\n"
     ]
    }
   ],
   "source": [
    "print(X.shape)\n",
    "print(Y.shape)"
   ]
  },
  {
   "cell_type": "markdown",
   "id": "72f787a1",
   "metadata": {},
   "source": [
    "training"
   ]
  },
  {
   "cell_type": "code",
   "execution_count": 6,
   "id": "1e70ace0",
   "metadata": {},
   "outputs": [
    {
     "name": "stdout",
     "output_type": "stream",
     "text": [
      "X_train shape (7223, 9)\n",
      "X_test shape (1806, 9)\n",
      "Y_train shape (7223,)\n",
      "Y_test shape (1806,)\n"
     ]
    }
   ],
   "source": [
    "from sklearn.model_selection import train_test_split\n",
    "\n",
    "#split the dataset into training and testing sets, 70-30 or 80-20 split, decided to use 20%\n",
    "X_train, X_test, Y_train, Y_test = train_test_split(X, Y, test_size=0.2, random_state=42)\n",
    "\n",
    "print(\"X_train shape\", X_train.shape)\n",
    "print(\"X_test shape\", X_test.shape)\n",
    "print(\"Y_train shape\", Y_train.shape)\n",
    "print(\"Y_test shape\", Y_test.shape)"
   ]
  },
  {
   "cell_type": "code",
   "execution_count": 7,
   "id": "11502d50",
   "metadata": {},
   "outputs": [],
   "source": [
    "#scaling X data\n",
    "from sklearn.preprocessing import StandardScaler\n",
    "\n",
    "scaler = StandardScaler()\n",
    "X_train_scaled = scaler.fit_transform(X_train)\n",
    "X_test_scaled = scaler.transform(X_test)"
   ]
  },
  {
   "cell_type": "code",
   "execution_count": 8,
   "id": "fefea4d7",
   "metadata": {},
   "outputs": [
    {
     "data": {
      "text/plain": [
       "array([2, 4, 4, ..., 4, 4, 5], dtype=int64)"
      ]
     },
     "execution_count": 8,
     "metadata": {},
     "output_type": "execute_result"
    }
   ],
   "source": [
    "#before optimization\n",
    "#applying KNN classifier\n",
    "from sklearn.neighbors import KNeighborsClassifier\n",
    "from sklearn.model_selection import GridSearchCV\n",
    "\n",
    "#create a KNN classifier instance\n",
    "knn_classifier = KNeighborsClassifier()\n",
    "\n",
    "#fit the KNN classifier to the scaled training data\n",
    "knn_classifier.fit(X_train_scaled, Y_train)\n",
    "\n",
    "#make prediction on the test data\n",
    "Y_pred = knn_classifier.predict(X_test_scaled)\n",
    "Y_pred\n"
   ]
  },
  {
   "cell_type": "code",
   "execution_count": 9,
   "id": "8429f641",
   "metadata": {},
   "outputs": [
    {
     "name": "stdout",
     "output_type": "stream",
     "text": [
      "Accuracy before opimization 0.8732004429678848\n",
      "Classification Report before opimization\n",
      "              precision    recall  f1-score   support\n",
      "\n",
      "           1       0.85      0.88      0.86       161\n",
      "           2       0.85      0.82      0.83       126\n",
      "           3       0.79      0.78      0.78       212\n",
      "           4       0.86      0.86      0.86       338\n",
      "           5       0.92      0.90      0.91       939\n",
      "           7       0.63      0.87      0.73        30\n",
      "\n",
      "    accuracy                           0.87      1806\n",
      "   macro avg       0.82      0.85      0.83      1806\n",
      "weighted avg       0.87      0.87      0.87      1806\n",
      "\n",
      "confusion_matrix before opimization\n"
     ]
    },
    {
     "data": {
      "text/plain": [
       "Text(50.722222222222214, 0.5, 'Truth')"
      ]
     },
     "execution_count": 9,
     "metadata": {},
     "output_type": "execute_result"
    },
    {
     "data": {
      "image/png": "[encoded data removed]",
      "text/plain": [
       "<Figure size 640x480 with 2 Axes>"
      ]
     },
     "metadata": {},
     "output_type": "display_data"
    }
   ],
   "source": [
    "#evaluate the classifier with 3 metrics\n",
    "#accuracy, classification report and confusion matrix\n",
    "from sklearn.metrics import accuracy_score, classification_report, confusion_matrix\n",
    "\n",
    "accuracyB = accuracy_score(Y_test, Y_pred)\n",
    "print(\"Accuracy before opimization\", accuracyB)\n",
    "\n",
    "print(\"Classification Report before opimization\")\n",
    "print(classification_report(Y_test, Y_pred))\n",
    "\n",
    "print(\"confusion_matrix before opimization\")\n",
    "#print(confusion_matrix(Y_test, Y_pred))\n",
    "\n",
    "cm = confusion_matrix(Y_test, Y_pred)\n",
    "sn.heatmap(cm, annot=True, fmt ='d')\n",
    "plt.xlabel('Predicted')\n",
    "plt.ylabel('Truth')"
   ]
  },
  {
   "cell_type": "code",
   "execution_count": 10,
   "id": "d8d4c318",
   "metadata": {
    "scrolled": true
   },
   "outputs": [
    {
     "name": "stdout",
     "output_type": "stream",
     "text": [
      "Fitting 10 folds for each of 49 candidates, totalling 490 fits\n",
      "{'n_neighbors': 1}\n"
     ]
    },
    {
     "data": {
      "text/plain": [
       "array([2, 4, 4, ..., 3, 4, 5], dtype=int64)"
      ]
     },
     "execution_count": 10,
     "metadata": {},
     "output_type": "execute_result"
    }
   ],
   "source": [
    "#after parameter optimization\n",
    "\n",
    "param_grid_knn = {\n",
    "    'n_neighbors': range(1, 50),  # Vary the number of neighbors\n",
    "}\n",
    "\n",
    "#GridSearchCV instance for knnclassifier with cross-validation\n",
    "grid_search_knn = GridSearchCV(estimator=knn_classifier, param_grid=param_grid_knn, cv=10, n_jobs=-1, verbose=1)\n",
    "grid_search_knn.fit(X_train_scaled, Y_train)\n",
    "best_params_knn = grid_search_knn.best_params_\n",
    "\n",
    "print(best_params_knn)\n",
    "\n",
    "# Get the best KNN classifier with the best hyperparameters\n",
    "best_knn_classifier = grid_search_knn.best_estimator_\n",
    "\n",
    "# Make predictions on the test data using the best KNN classifier\n",
    "Y_pred = best_knn_classifier.predict(X_test_scaled)\n",
    "Y_pred"
   ]
  },
  {
   "cell_type": "code",
   "execution_count": 11,
   "id": "a6c17251",
   "metadata": {},
   "outputs": [
    {
     "name": "stdout",
     "output_type": "stream",
     "text": [
      "Accuracy after optimization  0.9031007751937985\n",
      "Classification Report after optimization \n",
      "              precision    recall  f1-score   support\n",
      "\n",
      "           1       0.91      0.91      0.91       161\n",
      "           2       0.85      0.95      0.90       126\n",
      "           3       0.83      0.86      0.84       212\n",
      "           4       0.89      0.88      0.89       338\n",
      "           5       0.94      0.92      0.93       939\n",
      "           7       0.77      0.77      0.77        30\n",
      "\n",
      "    accuracy                           0.90      1806\n",
      "   macro avg       0.86      0.88      0.87      1806\n",
      "weighted avg       0.90      0.90      0.90      1806\n",
      "\n",
      "confusion_matrix after optimization \n"
     ]
    },
    {
     "data": {
      "image/png": "[encoded data removed]",
      "text/plain": [
       "<Figure size 640x480 with 2 Axes>"
      ]
     },
     "metadata": {},
     "output_type": "display_data"
    }
   ],
   "source": [
    "accuracyA = accuracy_score(Y_test, Y_pred)\n",
    "print(\"Accuracy after optimization \", accuracyA)\n",
    "\n",
    "print(\"Classification Report after optimization \")\n",
    "print(classification_report(Y_test, Y_pred))\n",
    "\n",
    "print(\"confusion_matrix after optimization \")\n",
    "#print(confusion_matrix(Y_test, Y_pred))\n",
    "\n",
    "cm = confusion_matrix(Y_test, Y_pred)\n",
    "sn.heatmap(cm, annot=True, fmt='d')\n",
    "plt.xlabel('Predicted')\n",
    "plt.ylabel('Truth')\n",
    "plt.show()"
   ]
  },
  {
   "cell_type": "code",
   "execution_count": 12,
   "id": "1cae69ad",
   "metadata": {},
   "outputs": [
    {
     "name": "stdout",
     "output_type": "stream",
     "text": [
      "Accuracy before parameter optimization: 0.87\n",
      "Accuracy for after parameter optimization: 0.90\n"
     ]
    }
   ],
   "source": [
    "print(\"Accuracy before parameter optimization: {:.2f}\".format(accuracyB))\n",
    "print(\"Accuracy for after parameter optimization: {:.2f}\".format(accuracyA))"
   ]
  },
  {
   "cell_type": "code",
   "execution_count": 13,
   "id": "723a6795",
   "metadata": {},
   "outputs": [
    {
     "data": {
      "image/png": "[encoded data removed]",
      "text/plain": [
       "<Figure size 640x480 with 1 Axes>"
      ]
     },
     "metadata": {},
     "output_type": "display_data"
    }
   ],
   "source": [
    "labels = ['Before', 'After']\n",
    "accuracy_scores = [accuracyB, accuracyA]\n",
    "\n",
    "#chart to see difference\n",
    "plt.bar(labels, accuracy_scores, color=['blue', 'green'])\n",
    "plt.xlabel('Optimization Type')\n",
    "plt.ylabel('Accuracy')\n",
    "plt.ylim(0.85, 0.95)\n",
    "plt.show()\n"
   ]
  },
  {
   "cell_type": "markdown",
   "id": "13cbdc60",
   "metadata": {},
   "source": [
    "a) Use the Machine Learning algorithms: \n",
    "    k-NN to classify multiphase flow patterns, \n",
    "    using the database BD12Experiments6FP.csv and \n",
    "    evaluate the performance.\n",
    "    \n",
    "b) Apply parameters optimization to (a) and evaluate the performance.\n",
    "    \n",
    "c) Explain the Confusion Matrix obtained in (a) y (b), that is, before and after parameters optimization.\n",
    "before parameter optimization, the accuracy of the KNN classification was only 87% and after parameter optimization, it had a 90%, which was an increase of 3%. \n",
    "\n",
    "Generally speaking, after the parameter optimization, accuracy, precision and f1 scores were all higher. It means the KNN classififer after optimization performed better, and since it had a higher f1 score, made more correct predictions across the entire dataset\n"
   ]
  }
 ],
 "metadata": {
  "kernelspec": {
   "display_name": "Python 3 (ipykernel)",
   "language": "python",
   "name": "python3"
  },
  "language_info": {
   "codemirror_mode": {
    "name": "ipython",
    "version": 3
   },
   "file_extension": ".py",
   "mimetype": "text/x-python",
   "name": "python",
   "nbconvert_exporter": "python",
   "pygments_lexer": "ipython3",
   "version": "3.11.4"
  }
 },
 "nbformat": 4,
 "nbformat_minor": 5
}
